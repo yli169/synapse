{
 "cells": [
  {
   "cell_type": "markdown",
   "id": "alien-repair",
   "metadata": {},
   "source": [
    "# Paper Title\n",
    "\n",
    "Authors\n",
    "\n",
    "https://paper-link.pdf"
   ]
  },
  {
   "cell_type": "code",
   "execution_count": 1,
   "id": "received-external",
   "metadata": {},
   "outputs": [],
   "source": [
    "import tensorflow as tf"
   ]
  },
  {
   "cell_type": "markdown",
   "id": "romantic-summit",
   "metadata": {},
   "source": [
    "## 0 Setup Sample Examples"
   ]
  },
  {
   "cell_type": "markdown",
   "id": "forward-consideration",
   "metadata": {},
   "source": [
    "### Preprocessing"
   ]
  },
  {
   "cell_type": "markdown",
   "id": "incredible-blank",
   "metadata": {},
   "source": [
    "### Tokenization"
   ]
  },
  {
   "cell_type": "markdown",
   "id": "gross-geography",
   "metadata": {},
   "source": [
    "### Padding"
   ]
  },
  {
   "cell_type": "markdown",
   "id": "pointed-wings",
   "metadata": {},
   "source": [
    "### Create tfDataset"
   ]
  },
  {
   "cell_type": "markdown",
   "id": "settled-finger",
   "metadata": {},
   "source": [
    "## Abstract"
   ]
  },
  {
   "cell_type": "markdown",
   "id": "smart-niger",
   "metadata": {},
   "source": [
    "## 1 Introduction & Background"
   ]
  },
  {
   "cell_type": "markdown",
   "id": "rational-attempt",
   "metadata": {},
   "source": [
    "## 2 Model Architecture"
   ]
  }
 ],
 "metadata": {
  "kernelspec": {
   "display_name": "Python 3",
   "language": "python",
   "name": "python3"
  },
  "language_info": {
   "codemirror_mode": {
    "name": "ipython",
    "version": 3
   },
   "file_extension": ".py",
   "mimetype": "text/x-python",
   "name": "python",
   "nbconvert_exporter": "python",
   "pygments_lexer": "ipython3",
   "version": "3.8.2"
  }
 },
 "nbformat": 4,
 "nbformat_minor": 5
}
